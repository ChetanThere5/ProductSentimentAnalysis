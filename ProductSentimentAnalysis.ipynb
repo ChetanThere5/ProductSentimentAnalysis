{
 "cells": [
  {
   "cell_type": "code",
   "execution_count": 1,
   "metadata": {},
   "outputs": [
    {
     "data": {
      "text/html": [
       "<h1>Product Sentiment Analysis</h1>"
      ],
      "text/plain": [
       "<IPython.core.display.HTML object>"
      ]
     },
     "metadata": {},
     "output_type": "display_data"
    }
   ],
   "source": [
    "%%HTML\n",
    "<h1>Product Sentiment Analysis</h1>\n"
   ]
  },
  {
   "cell_type": "code",
   "execution_count": 2,
   "metadata": {
    "collapsed": true
   },
   "outputs": [],
   "source": [
    "# Import modules\n",
    "from sklearn.linear_model import LogisticRegression\n",
    "from sklearn.cross_validation import train_test_split\n",
    "from sklearn.feature_extraction.text import CountVectorizer\n",
    "from sklearn import metrics \n",
    "import pandas as pd\n",
    "import matplotlib.pyplot as plt\n",
    "%matplotlib inline\n"
   ]
  },
  {
   "cell_type": "code",
   "execution_count": 3,
   "metadata": {
    "collapsed": true
   },
   "outputs": [],
   "source": [
    "# Load dataset\n",
    "products = pd.read_csv('amazon_babyproducts.csv')"
   ]
  },
  {
   "cell_type": "code",
   "execution_count": 4,
   "metadata": {},
   "outputs": [
    {
     "name": "stdout",
     "output_type": "stream",
     "text": [
      "(183531, 3)\n",
      "                                                name  \\\n",
      "0                           Planetwise Flannel Wipes   \n",
      "1                              Planetwise Wipe Pouch   \n",
      "2                Annas Dream Full Quilt with 2 Shams   \n",
      "3  Stop Pacifier Sucking without tears with Thumb...   \n",
      "4  Stop Pacifier Sucking without tears with Thumb...   \n",
      "\n",
      "                                              review  rating  \n",
      "0  These flannel wipes are OK, but in my opinion ...       3  \n",
      "1  it came early and was not disappointed. i love...       5  \n",
      "2  Very soft and comfortable and warmer than it l...       5  \n",
      "3  This is a product well worth the purchase.  I ...       5  \n",
      "4  All of my kids have cried non-stop when I trie...       5  \n",
      "\n",
      "5    107054\n",
      "4     33205\n",
      "3     16779\n",
      "1     15183\n",
      "2     11310\n",
      "Name: rating, dtype: int64\n"
     ]
    },
    {
     "data": {
      "image/png": "[encoded data removed]",
      "text/plain": [
       "<matplotlib.figure.Figure at 0x9cfedb0>"
      ]
     },
     "metadata": {},
     "output_type": "display_data"
    }
   ],
   "source": [
    "# Understand dataset\n",
    "print(products.shape)\n",
    "print(products.head(5))\n",
    "print()\n",
    "print(products['rating'].value_counts())\n",
    "products['rating'].value_counts().plot(kind='bar', title='count of each rating');\n"
   ]
  },
  {
   "cell_type": "code",
   "execution_count": 5,
   "metadata": {},
   "outputs": [
    {
     "name": "stdout",
     "output_type": "stream",
     "text": [
      "total NaN in reviews 829\n"
     ]
    },
    {
     "data": {
      "text/plain": [
       "38        NaN\n",
       "58        NaN\n",
       "721       NaN\n",
       "1050      NaN\n",
       "1183      NaN\n",
       "1373      NaN\n",
       "1688      NaN\n",
       "1689      NaN\n",
       "2372      NaN\n",
       "2409      NaN\n",
       "2838      NaN\n",
       "3257      NaN\n",
       "3268      NaN\n",
       "5036      NaN\n",
       "5275      NaN\n",
       "5513      NaN\n",
       "7755      NaN\n",
       "7782      NaN\n",
       "8645      NaN\n",
       "9456      NaN\n",
       "9826      NaN\n",
       "10340     NaN\n",
       "10362     NaN\n",
       "10405     NaN\n",
       "11172     NaN\n",
       "11611     NaN\n",
       "11884     NaN\n",
       "12059     NaN\n",
       "12616     NaN\n",
       "13036     NaN\n",
       "         ... \n",
       "178385    NaN\n",
       "178435    NaN\n",
       "178462    NaN\n",
       "178555    NaN\n",
       "178671    NaN\n",
       "178865    NaN\n",
       "179364    NaN\n",
       "179780    NaN\n",
       "179857    NaN\n",
       "179984    NaN\n",
       "180172    NaN\n",
       "180503    NaN\n",
       "180520    NaN\n",
       "180563    NaN\n",
       "180610    NaN\n",
       "180619    NaN\n",
       "180729    NaN\n",
       "180851    NaN\n",
       "181203    NaN\n",
       "181422    NaN\n",
       "182018    NaN\n",
       "182161    NaN\n",
       "182435    NaN\n",
       "182460    NaN\n",
       "183111    NaN\n",
       "183143    NaN\n",
       "183220    NaN\n",
       "183230    NaN\n",
       "183241    NaN\n",
       "183344    NaN\n",
       "Name: review, dtype: object"
      ]
     },
     "execution_count": 5,
     "metadata": {},
     "output_type": "execute_result"
    }
   ],
   "source": [
    "#checking null in reviews\n",
    "print('total NaN in reviews' , products['review'].isnull().sum())\n",
    "products.loc[products['review'].isnull(),'review']"
   ]
  },
  {
   "cell_type": "code",
   "execution_count": 6,
   "metadata": {},
   "outputs": [
    {
     "name": "stdout",
     "output_type": "stream",
     "text": [
      "name      SoftPlay Twinkle Twinkle Elmo A Bedtime Book\n",
      "review                                                \n",
      "rating                                               5\n",
      "Name: 38, dtype: object\n"
     ]
    }
   ],
   "source": [
    "#Replacing NaN values with spaces\n",
    "products['review'].fillna(value='',inplace=True)\n",
    "print(products.loc[38,:])"
   ]
  },
  {
   "cell_type": "markdown",
   "metadata": {
    "collapsed": true
   },
   "source": [
    "## Build Sentiment Analyzer"
   ]
  },
  {
   "cell_type": "code",
   "execution_count": 7,
   "metadata": {},
   "outputs": [
    {
     "name": "stdout",
     "output_type": "stream",
     "text": [
      "(166752, 3)\n",
      "5    107054\n",
      "4     33205\n",
      "1     15183\n",
      "2     11310\n",
      "Name: rating, dtype: int64\n"
     ]
    }
   ],
   "source": [
    "# PreProcessing\n",
    "# Remove 3 ratings\n",
    "products = products.loc[products['rating'] != 3,:]\n",
    "print(products.shape)\n",
    "print(products['rating'].value_counts())"
   ]
  },
  {
   "cell_type": "code",
   "execution_count": 8,
   "metadata": {},
   "outputs": [
    {
     "name": "stdout",
     "output_type": "stream",
     "text": [
      "                                                name  \\\n",
      "1                              Planetwise Wipe Pouch   \n",
      "2                Annas Dream Full Quilt with 2 Shams   \n",
      "3  Stop Pacifier Sucking without tears with Thumb...   \n",
      "4  Stop Pacifier Sucking without tears with Thumb...   \n",
      "5  Stop Pacifier Sucking without tears with Thumb...   \n",
      "\n",
      "                                              review  rating  sentiment  \n",
      "1  it came early and was not disappointed. i love...       5          1  \n",
      "2  Very soft and comfortable and warmer than it l...       5          1  \n",
      "3  This is a product well worth the purchase.  I ...       5          1  \n",
      "4  All of my kids have cried non-stop when I trie...       5          1  \n",
      "5  When the Binky Fairy came to our house, we did...       5          1  \n"
     ]
    }
   ],
   "source": [
    "# Forming sentiments: 4 and 5 rating +ve sentiment, 1 and 2 form -ve sentiment\n",
    "products['sentiment'] = (products['rating'] >= 4).astype(int)\n",
    "print(products.head(5))"
   ]
  },
  {
   "cell_type": "code",
   "execution_count": 9,
   "metadata": {},
   "outputs": [
    {
     "name": "stdout",
     "output_type": "stream",
     "text": [
      "166752 125064 41688 125064 41688\n"
     ]
    }
   ],
   "source": [
    "# Step 1 : Load Data\n",
    "X = products['review']\n",
    "y = products['sentiment']\n",
    "\n",
    "Xtrain, Xtest, ytrain, ytest = train_test_split(X,y,random_state=5)\n",
    "print(X.size, Xtrain.size , Xtest.size , ytrain.size, ytest.size)"
   ]
  },
  {
   "cell_type": "code",
   "execution_count": 10,
   "metadata": {},
   "outputs": [
    {
     "name": "stdout",
     "output_type": "stream",
     "text": [
      "(125064, 55635)\n"
     ]
    }
   ],
   "source": [
    "# CountVectorizer : Converts a collection of text documents to a matrix of token counts\n",
    "vect1 = CountVectorizer()\n",
    "# Fit : Learn a vocabulary dictionary of all tokens in the raw documents, takes care of stop word removal  & lowercasing\n",
    "vect1.fit(Xtrain)\n",
    "# Transform : Transform documents to document-term matrix\n",
    "Xtrain_dtm = vect1.transform(Xtrain)\n",
    "print(Xtrain_dtm.shape)"
   ]
  },
  {
   "cell_type": "code",
   "execution_count": 11,
   "metadata": {
    "collapsed": true
   },
   "outputs": [],
   "source": [
    "# Step 2: Build Model\n",
    "log_reg = LogisticRegression()"
   ]
  },
  {
   "cell_type": "code",
   "execution_count": 12,
   "metadata": {
    "collapsed": true,
    "scrolled": false
   },
   "outputs": [],
   "source": [
    "# Step 3: Learn\n",
    "log_reg.fit(Xtrain_dtm,ytrain);"
   ]
  },
  {
   "cell_type": "code",
   "execution_count": 13,
   "metadata": {
    "collapsed": true
   },
   "outputs": [],
   "source": [
    "# Step 4: Predict\n",
    "Xtest_dtm = vect1.transform(Xtest)\n",
    "ypredict = log_reg.predict(Xtest_dtm)"
   ]
  },
  {
   "cell_type": "code",
   "execution_count": 14,
   "metadata": {},
   "outputs": [
    {
     "name": "stdout",
     "output_type": "stream",
     "text": [
      "accuracy:  0.932642487047\n",
      "confusion matrix\n",
      "[[ 4878  1802]\n",
      " [ 1006 34002]]\n",
      "area under curve:  0.850751616055\n"
     ]
    }
   ],
   "source": [
    "# Step 5: Evaluate\n",
    "print('accuracy: ' ,metrics.accuracy_score(ytest,ypredict))\n",
    "print('confusion matrix')\n",
    "print(metrics.confusion_matrix(ytest,ypredict))\n",
    "fpr,tpr,threshold = metrics.roc_curve(ytest,ypredict)\n",
    "print('area under curve: ', metrics.roc_auc_score(ytest,ypredict))\n"
   ]
  },
  {
   "cell_type": "code",
   "execution_count": 15,
   "metadata": {},
   "outputs": [
    {
     "data": {
      "image/png": "[encoded data removed]",
      "text/plain": [
       "<matplotlib.figure.Figure at 0xb674250>"
      ]
     },
     "metadata": {},
     "output_type": "display_data"
    }
   ],
   "source": [
    "plt.plot(fpr,tpr)\n",
    "plt.title('ROC curve')\n",
    "plt.xlabel('false postive rate')\n",
    "plt.ylabel('true positive rate')\n",
    "plt.grid(True)"
   ]
  },
  {
   "cell_type": "code",
   "execution_count": 16,
   "metadata": {},
   "outputs": [
    {
     "data": {
      "image/png": "[encoded data removed]",
      "text/plain": [
       "<matplotlib.figure.Figure at 0x13d42370>"
      ]
     },
     "metadata": {},
     "output_type": "display_data"
    }
   ],
   "source": [
    "#Top 5 products\n",
    "products_name5 = products['name'].value_counts().head()\n",
    "products_name5.plot(kind='bar');"
   ]
  },
  {
   "cell_type": "code",
   "execution_count": 17,
   "metadata": {},
   "outputs": [
    {
     "name": "stdout",
     "output_type": "stream",
     "text": [
      "5    535\n",
      "4     95\n",
      "1     56\n",
      "2     37\n",
      "Name: rating, dtype: int64\n",
      "(723, 55635)\n"
     ]
    }
   ],
   "source": [
    "# Probablistic estimates on top product\n",
    "Giraffe_Teether = products.loc[products['name']=='Vulli Sophie the Giraffe Teether',:]\n",
    "print(Giraffe_Teether['rating'].value_counts())\n",
    "Xgt = Giraffe_Teether['review']\n",
    "ygt = Giraffe_Teether['rating']\n",
    "Xgt_dtm = vect1.transform(Xgt)\n",
    "print(Xgt_dtm.shape)"
   ]
  },
  {
   "cell_type": "code",
   "execution_count": 18,
   "metadata": {},
   "outputs": [
    {
     "name": "stdout",
     "output_type": "stream",
     "text": [
      "(723, 2)\n",
      "(723,)\n",
      "[[  2.13407012e-03   9.97865930e-01]\n",
      " [  5.16326956e-04   9.99483673e-01]\n",
      " [  6.21648484e-01   3.78351516e-01]\n",
      " [  3.21133219e-02   9.67886678e-01]\n",
      " [  5.25514820e-01   4.74485180e-01]]\n",
      "[1 1 0 1 0]\n"
     ]
    }
   ],
   "source": [
    "ygt_prob = log_reg.predict_proba(Xgt_dtm)\n",
    "ygt_pred = log_reg.predict(Xgt_dtm)\n",
    "print(ygt_prob.shape)\n",
    "print(ygt_pred.shape)\n",
    "print(ygt_prob[:5])\n",
    "print(ygt_pred[:5])"
   ]
  },
  {
   "cell_type": "code",
   "execution_count": 19,
   "metadata": {},
   "outputs": [
    {
     "name": "stdout",
     "output_type": "stream",
     "text": [
      "       pred_prob0  pred_prob1\n",
      "34313    0.002134    0.997866\n",
      "34314    0.000516    0.999484\n",
      "34315    0.621648    0.378352\n",
      "34316    0.032113    0.967887\n",
      "34317    0.525515    0.474485\n"
     ]
    }
   ],
   "source": [
    "Giraffe_Teether_indices = Giraffe_Teether.index.values\n",
    "ygt_prob_df = pd.DataFrame(ygt_prob,index=Giraffe_Teether_indices,columns=['pred_prob0','pred_prob1'])\n",
    "print(ygt_prob_df.head(5))\n"
   ]
  },
  {
   "cell_type": "code",
   "execution_count": 20,
   "metadata": {
    "collapsed": true
   },
   "outputs": [],
   "source": [
    "dict_maxprob = {}\n",
    "for ind, row in ygt_prob_df.iterrows():\n",
    "    dict_maxprob[ind] = max(row['pred_prob0'],row['pred_prob1'])\n",
    "\n",
    "se_maxprob = pd.Series(dict_maxprob)\n"
   ]
  },
  {
   "cell_type": "code",
   "execution_count": 21,
   "metadata": {},
   "outputs": [
    {
     "name": "stdout",
     "output_type": "stream",
     "text": [
      "                                   name  \\\n",
      "34313  Vulli Sophie the Giraffe Teether   \n",
      "34314  Vulli Sophie the Giraffe Teether   \n",
      "34315  Vulli Sophie the Giraffe Teether   \n",
      "34316  Vulli Sophie the Giraffe Teether   \n",
      "34317  Vulli Sophie the Giraffe Teether   \n",
      "\n",
      "                                                  review  rating  sentiment  \\\n",
      "34313  He likes chewing on all the parts especially t...       5          1   \n",
      "34314  My son loves this toy and fits great in the di...       5          1   \n",
      "34315  There really should be a large warning on the ...       1          0   \n",
      "34316  All the moms in my moms' group got Sophie for ...       5          1   \n",
      "34317  I was a little skeptical on whether Sophie was...       5          1   \n",
      "\n",
      "       pred_prob  \n",
      "34313   0.997866  \n",
      "34314   0.999484  \n",
      "34315   0.621648  \n",
      "34316   0.967887  \n",
      "34317   0.525515  \n"
     ]
    },
    {
     "name": "stderr",
     "output_type": "stream",
     "text": [
      "c:\\program files (x86)\\python35-32\\lib\\site-packages\\ipykernel_launcher.py:1: SettingWithCopyWarning: \n",
      "A value is trying to be set on a copy of a slice from a DataFrame.\n",
      "Try using .loc[row_indexer,col_indexer] = value instead\n",
      "\n",
      "See the caveats in the documentation: http://pandas.pydata.org/pandas-docs/stable/indexing.html#indexing-view-versus-copy\n",
      "  \"\"\"Entry point for launching an IPython kernel.\n"
     ]
    }
   ],
   "source": [
    "Giraffe_Teether['pred_prob'] = se_maxprob\n",
    "print(Giraffe_Teether.head(5))"
   ]
  },
  {
   "cell_type": "code",
   "execution_count": 22,
   "metadata": {},
   "outputs": [
    {
     "name": "stdout",
     "output_type": "stream",
     "text": [
      "                                   name  \\\n",
      "34892  Vulli Sophie the Giraffe Teether   \n",
      "34434  Vulli Sophie the Giraffe Teether   \n",
      "34687  Vulli Sophie the Giraffe Teether   \n",
      "34442  Vulli Sophie the Giraffe Teether   \n",
      "34515  Vulli Sophie the Giraffe Teether   \n",
      "\n",
      "                                                  review  rating  sentiment  \\\n",
      "34892  Sophie, oh Sophie, your time has come. My gran...       5          1   \n",
      "34434  My Mom-in-Law bought Sophie for my son when he...       5          1   \n",
      "34687  I wanted to love this product and was excited ...       1          0   \n",
      "34442  Yes, it's imported. Yes, it's expensive. And y...       5          1   \n",
      "34515  As every mom knows, you always want to give yo...       5          1   \n",
      "\n",
      "       pred_prob  \n",
      "34892        1.0  \n",
      "34434        1.0  \n",
      "34687        1.0  \n",
      "34442        1.0  \n",
      "34515        1.0  \n"
     ]
    },
    {
     "name": "stderr",
     "output_type": "stream",
     "text": [
      "c:\\program files (x86)\\python35-32\\lib\\site-packages\\ipykernel_launcher.py:2: SettingWithCopyWarning: \n",
      "A value is trying to be set on a copy of a slice from a DataFrame\n",
      "\n",
      "See the caveats in the documentation: http://pandas.pydata.org/pandas-docs/stable/indexing.html#indexing-view-versus-copy\n",
      "  \n"
     ]
    }
   ],
   "source": [
    "#sorting sentiments based on their high probability\n",
    "Giraffe_Teether.sort_values('pred_prob',ascending=False, inplace=True)\n",
    "print(Giraffe_Teether.head(5))\n"
   ]
  },
  {
   "cell_type": "code",
   "execution_count": 23,
   "metadata": {},
   "outputs": [
    {
     "name": "stdout",
     "output_type": "stream",
     "text": [
      "                                                  review\n",
      "34892  Sophie, oh Sophie, your time has come. My gran...\n",
      "34434  My Mom-in-Law bought Sophie for my son when he...\n",
      "34442  Yes, it's imported. Yes, it's expensive. And y...\n",
      "34515  As every mom knows, you always want to give yo...\n",
      "34341  I'll be honest...I bought this toy because all...\n"
     ]
    }
   ],
   "source": [
    "gt_pos_sorted = Giraffe_Teether.loc[Giraffe_Teether['sentiment']==1,['review']]\n",
    "print(gt_pos_sorted.head(5))"
   ]
  },
  {
   "cell_type": "code",
   "execution_count": 24,
   "metadata": {},
   "outputs": [
    {
     "name": "stdout",
     "output_type": "stream",
     "text": [
      "                                                  review\n",
      "34687  I wanted to love this product and was excited ...\n",
      "34732  Received the product and smells like cheap rub...\n",
      "34994  When I received this the paint was peeling off...\n",
      "34824  I got one of these as a showe gift that my bab...\n",
      "34556  Alright, first off didn't realize this was a s...\n"
     ]
    }
   ],
   "source": [
    "gt_neg_sorted = Giraffe_Teether.loc[Giraffe_Teether['sentiment']==0,['review']]\n",
    "print(gt_neg_sorted.head(5))"
   ]
  },
  {
   "cell_type": "code",
   "execution_count": 25,
   "metadata": {},
   "outputs": [
    {
     "name": "stdout",
     "output_type": "stream",
     "text": [
      "Sophie, oh Sophie, your time has come. My granddaughter, Violet is 5 months old and starting to teeth. What joy little Sophie brings to Violet. Sophie is made of a very pliable rubber that is sturdy but not tough. It is quite easy for Violet to twist Sophie into unheard of positions to get Sophie into her mouth. The little nose and hooves fit perfectly into small mouths, and the drooling has purpose. The paint on Sophie is food quality.Sophie was born in 1961 in France. The maker had wondered why there was nothing available for babies and made Sophie from the finest rubber, phthalate-free on St Sophie's Day, thus the name was born. Since that time millions of Sophie's populate the world. She is soft and for babies little hands easy to grasp. Violet especially loves the bumpy head and horns of Sophie. Sophie has a long neck that easy to grasp and twist. She has lovely, sizable spots that attract Violet's attention. Sophie has happy little squeaks that bring squeals of delight from Violet. She is able to make Sophie squeak and that brings much joy. Sophie's smooth skin is soothing to Violet's little gums. Sophie is 7 inches tall and is the exact correct size for babies to hold and love.As you well know the first thing babies grasp, goes into their mouths- how wonderful to have a toy that stimulates all of the senses and helps with the issue of teething. Sophie is small enough to fit into any size pocket or bag. Sophie is the perfect find for babies from a few months to a year old. How wonderful to hear the giggles and laughs that emanate from babies who find Sophie irresistible. Viva La Sophie!Highly Recommended.  prisrob 12-11-09\n"
     ]
    }
   ],
   "source": [
    "list_pos_sorted = []\n",
    "for i in gt_pos_sorted.head()['review']:\n",
    "    list_pos_sorted.append(i)\n",
    "\n",
    "print(list_pos_sorted[0])\n"
   ]
  },
  {
   "cell_type": "code",
   "execution_count": 26,
   "metadata": {},
   "outputs": [
    {
     "name": "stdout",
     "output_type": "stream",
     "text": [
      "Received the product and smells like cheap rubber. This is biggest waste of money. I even soaked it in hot water with soap for couple of hours (over a couple of days) but still smells. I ended up tossing this as this was waste of money.\n"
     ]
    }
   ],
   "source": [
    "list_neg_sorted = []\n",
    "for i in gt_neg_sorted.head()['review']:\n",
    "    list_neg_sorted.append(i)\n",
    "\n",
    "print(list_neg_sorted[1])"
   ]
  },
  {
   "cell_type": "markdown",
   "metadata": {},
   "source": [
    "## Build Sentiment Analyzer using specific vocabulary"
   ]
  },
  {
   "cell_type": "code",
   "execution_count": 27,
   "metadata": {
    "collapsed": true
   },
   "outputs": [],
   "source": [
    "Xvoc = products['review']\n",
    "yvoc = products['sentiment']\n"
   ]
  },
  {
   "cell_type": "code",
   "execution_count": 28,
   "metadata": {
    "collapsed": true
   },
   "outputs": [],
   "source": [
    "vect2 = CountVectorizer(vocabulary=['awesome', 'great', 'fantastic', 'amazing', 'love', 'horrible', 'bad', 'terrible', 'awful', 'wow', 'hate'])\n",
    "vect2.fit(Xvoc)\n",
    "vect2.get_feature_names()\n",
    "Xvoc_dtm = vect2.transform(Xvoc)"
   ]
  },
  {
   "cell_type": "code",
   "execution_count": 29,
   "metadata": {},
   "outputs": [
    {
     "name": "stdout",
     "output_type": "stream",
     "text": [
      "(166752, 11)\n",
      "   awesome  great  fantastic  amazing  love  horrible  bad  terrible  awful  \\\n",
      "1        0      0          0        0     1         0    0         0      0   \n",
      "2        0      0          0        0     0         0    0         0      0   \n",
      "3        0      0          0        0     2         0    0         0      0   \n",
      "4        0      1          0        0     1         0    0         0      0   \n",
      "5        0      1          0        0     0         0    0         0      0   \n",
      "\n",
      "   wow  hate  \n",
      "1    0     0  \n",
      "2    0     0  \n",
      "3    0     0  \n",
      "4    0     0  \n",
      "5    0     0  \n"
     ]
    }
   ],
   "source": [
    "# Converting sparse matrix to DataFrame\n",
    "Xvoc_dtm_pd = pd.DataFrame(Xvoc_dtm.toarray(),columns=vect2.get_feature_names(),index=Xvoc.index)\n",
    "print(Xvoc_dtm_pd.shape)\n",
    "print(Xvoc_dtm_pd.head(5))"
   ]
  },
  {
   "cell_type": "code",
   "execution_count": 30,
   "metadata": {},
   "outputs": [
    {
     "name": "stdout",
     "output_type": "stream",
     "text": [
      "3892\n",
      "0    163086\n",
      "1      3475\n",
      "2       164\n",
      "3        19\n",
      "4         8\n",
      "Name: awesome, dtype: int64\n"
     ]
    }
   ],
   "source": [
    "print(Xvoc_dtm_pd['awesome'].sum())\n",
    "print(Xvoc_dtm_pd['awesome'].value_counts())"
   ]
  },
  {
   "cell_type": "code",
   "execution_count": 31,
   "metadata": {},
   "outputs": [
    {
     "name": "stdout",
     "output_type": "stream",
     "text": [
      "{'horrible': 1110, 'fantastic': 1664, 'amazing': 2628, 'great': 55791, 'hate': 1107, 'wow': 425, 'awesome': 3892, 'terrible': 1146, 'love': 41994, 'bad': 4183, 'awful': 687}\n"
     ]
    }
   ],
   "source": [
    "featurecount_dict = {}\n",
    "for i in vect2.get_feature_names():\n",
    "    featurecount_dict[i] = Xvoc_dtm_pd[i].sum()\n",
    "    \n",
    "print(featurecount_dict)\n",
    "    "
   ]
  },
  {
   "cell_type": "code",
   "execution_count": 32,
   "metadata": {},
   "outputs": [
    {
     "name": "stdout",
     "output_type": "stream",
     "text": [
      "(166752,) (125064,) (41688,) (125064,) (41688,)\n"
     ]
    }
   ],
   "source": [
    "Xvoc = products['review']\n",
    "yvoc = products['sentiment']\n",
    "\n",
    "Xvoctrain, Xvoctest, yvoctrain, yvoctest = train_test_split(Xvoc,yvoc,random_state=5)\n",
    "print(Xvoc.shape, Xvoctrain.shape , Xvoctest.shape , yvoctrain.shape, yvoctest.shape)\n"
   ]
  },
  {
   "cell_type": "code",
   "execution_count": 33,
   "metadata": {
    "collapsed": true
   },
   "outputs": [],
   "source": [
    "vect2.fit(Xvoctrain)\n",
    "Xvoctrain_dtm = vect2.transform(Xvoctrain)"
   ]
  },
  {
   "cell_type": "code",
   "execution_count": 34,
   "metadata": {
    "collapsed": true
   },
   "outputs": [],
   "source": [
    "log_reg2 = LogisticRegression()\n",
    "log_reg2.fit(Xvoctrain_dtm,yvoctrain);"
   ]
  },
  {
   "cell_type": "code",
   "execution_count": 35,
   "metadata": {},
   "outputs": [
    {
     "name": "stdout",
     "output_type": "stream",
     "text": [
      "['awesome', 'great', 'fantastic', 'amazing', 'love', 'horrible', 'bad', 'terrible', 'awful', 'wow', 'hate']\n",
      "[[ 1.09577027  0.88532747  0.8482785   0.9537253   1.36665798 -2.31490585\n",
      "  -0.95516119 -2.07273227 -1.97868032 -0.10830904 -1.34997589]]\n",
      "[ 1.33212269]\n"
     ]
    }
   ],
   "source": [
    "print(vect2.get_feature_names())\n",
    "# we can see +ve weights for positive words and -ve weights for negative words\n",
    "print(log_reg2.coef_)\n",
    "print(log_reg2.intercept_)"
   ]
  },
  {
   "cell_type": "code",
   "execution_count": 36,
   "metadata": {
    "collapsed": true
   },
   "outputs": [],
   "source": [
    "Xvoctest_dtm = vect2.transform(Xvoctest)\n",
    "yvocpredict = log_reg2.predict(Xvoctest_dtm)"
   ]
  },
  {
   "cell_type": "code",
   "execution_count": 37,
   "metadata": {},
   "outputs": [
    {
     "name": "stdout",
     "output_type": "stream",
     "text": [
      "accuracy:  0.847294185377\n",
      "confusion matrix\n",
      "[[  493  6187]\n",
      " [  179 34829]]\n",
      "roc_auc:  0.534344639104\n"
     ]
    }
   ],
   "source": [
    "print('accuracy: ' , metrics.accuracy_score(yvoctest,yvocpredict))\n",
    "print('confusion matrix')\n",
    "print(metrics.confusion_matrix(yvoctest,yvocpredict))\n",
    "fpr,tpr,threshold = metrics.roc_curve(yvoctest,yvocpredict)\n",
    "print('roc_auc: ' , metrics.roc_auc_score(yvoctest,yvocpredict))"
   ]
  },
  {
   "cell_type": "code",
   "execution_count": 38,
   "metadata": {},
   "outputs": [
    {
     "data": {
      "image/png": "[encoded data removed]",
      "text/plain": [
       "<matplotlib.figure.Figure at 0xb68f510>"
      ]
     },
     "metadata": {},
     "output_type": "display_data"
    }
   ],
   "source": [
    "plt.plot(fpr,tpr)\n",
    "plt.title('ROC curve')\n",
    "plt.xlabel('false postive rate')\n",
    "plt.ylabel('true positive rate')\n",
    "plt.grid(True)"
   ]
  },
  {
   "cell_type": "code",
   "execution_count": null,
   "metadata": {
    "collapsed": true
   },
   "outputs": [],
   "source": []
  }
 ],
 "metadata": {
  "kernelspec": {
   "display_name": "Python 3",
   "language": "python",
   "name": "python3"
  },
  "language_info": {
   "codemirror_mode": {
    "name": "ipython",
    "version": 3
   },
   "file_extension": ".py",
   "mimetype": "text/x-python",
   "name": "python",
   "nbconvert_exporter": "python",
   "pygments_lexer": "ipython3",
   "version": "3.5.2"
  }
 },
 "nbformat": 4,
 "nbformat_minor": 2
}
